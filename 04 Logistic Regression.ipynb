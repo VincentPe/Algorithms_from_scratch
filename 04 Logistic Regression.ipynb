{
 "cells": [
  {
   "cell_type": "markdown",
   "metadata": {},
   "source": [
    "## Logistic Regression"
   ]
  },
  {
   "cell_type": "code",
   "execution_count": 4,
   "metadata": {},
   "outputs": [],
   "source": [
    "# Import libraries\n",
    "import numpy as np\n",
    "import pandas as pd\n",
    "import warnings\n",
    "\n",
    "import seaborn as sns\n",
    "import matplotlib.pyplot as plt"
   ]
  },
  {
   "cell_type": "code",
   "execution_count": 5,
   "metadata": {},
   "outputs": [],
   "source": [
    "# Set display options\n",
    "pd.options.display.max_columns = 250\n",
    "pd.options.display.max_rows = 250\n",
    "pd.options.display.max_colwidth = -1"
   ]
  },
  {
   "cell_type": "code",
   "execution_count": 6,
   "metadata": {},
   "outputs": [],
   "source": [
    "# Print multiple items in one command and ignore warnings\n",
    "from IPython.core.interactiveshell import InteractiveShell\n",
    "InteractiveShell.ast_node_interactivity = \"all\"\n",
    "warnings.filterwarnings('ignore')\n",
    "\n",
    "# Create side by side display function\n",
    "from IPython.display import display_html\n",
    "def display_side_by_side(*args):\n",
    "    html_str=''\n",
    "    for df in args:\n",
    "        html_str+=df.to_html()\n",
    "    display_html(html_str.replace('table','table style=\"display:inline\"'),raw=True)"
   ]
  },
  {
   "cell_type": "markdown",
   "metadata": {},
   "source": [
    "Whereas (Multiple) Linear Regression is for solving regression problems, Logistic Regression is for classification problems. <br>However, regression is used inside the formula to finally convert continuous numbers to odds (from 0 to 1)."
   ]
  },
  {
   "cell_type": "markdown",
   "metadata": {},
   "source": [
    "Logistic Regression is more specifically designed to classify binary target variables. Using for example a one-vs-all approach, Logistic Regression can be used for multi-class classification problems. In this method, multiple regression lines are fitted to seperate target groups. The probabilities for each class are then calculated by using all models individually. Basically just using binary classification multiple times."
   ]
  },
  {
   "attachments": {},
   "cell_type": "markdown",
   "metadata": {},
   "source": [
    "<img src=\"images/Logistic_regression/binary_vs_all.PNG\" alt=\"binary vs all\" style=\"width: 700px;\"/>"
   ]
  },
  {
   "attachments": {},
   "cell_type": "markdown",
   "metadata": {},
   "source": [
    "Logistic regression uses the Sigmoid function under the hood to turn any continuous outcome to a number between 0 and 1. This is our probability and using a threshold we can turn our probabilities in binary outcomes.\n",
    "<img src=\"images/Logistic_regression/sigmoid_function.PNG\" alt=\"sigmoid function\" style=\"width: 500px;\"/>"
   ]
  },
  {
   "cell_type": "markdown",
   "metadata": {},
   "source": [
    "Euler's number is convenient since the derivative of e^X is still the same."
   ]
  },
  {
   "attachments": {},
   "cell_type": "markdown",
   "metadata": {},
   "source": [
    "We use the formula similar to regression (above denoted as X) and plug it into the Sigmoid function. If we set our classification threshold at 0.5, and our output is positive on the x-scale, we classify it as label 1. If the output is negative we classify it as 0. <br> So note that the vector of Beta's transposed with the x inputs is the input in the sigmoid function (basically the output of the regression formula, what for linear regression would be y hat). \n",
    "<img src=\"images/Logistic_regression/input_sigmoid.PNG\" alt=\"input sigmoid\" style=\"width: 250px;\"/>"
   ]
  },
  {
   "cell_type": "markdown",
   "metadata": {},
   "source": [
    "When z = 0, e^-0 = 1 and the function becomes 1/2. Therefore zero is the turning point in the sigmoid function. <br> \n",
    "Any negative input from the regression formula will be turned positive inside the exponential function, and will result in a large number. Logically, 1 devided by a large positive number results in a very small number. <br> \n",
    "The other way around, a positive regression output is turned negative. The exponential of a negative number becomes a very small number. 1 devided by 1 and a bit (that very small number), becomes something very close to 1."
   ]
  },
  {
   "cell_type": "code",
   "execution_count": 7,
   "metadata": {},
   "outputs": [],
   "source": [
    "# Define the sigmoid function\n",
    "def sigmoid_f(x):\n",
    "    return 1 / (1 + np.exp(-x))"
   ]
  },
  {
   "cell_type": "code",
   "execution_count": 8,
   "metadata": {},
   "outputs": [],
   "source": [
    "# Create some testdata to show the working of the sigmoid function\n",
    "data = pd.DataFrame({'x': np.arange(start = -10, stop = 10.1, step = 0.1)})\n",
    "data.x = round(data.x,1)\n",
    "data['y'] = sigmoid_f(data['x'])"
   ]
  },
  {
   "cell_type": "code",
   "execution_count": 9,
   "metadata": {},
   "outputs": [
    {
     "data": {
      "image/png": "[encoded data removed]",
      "text/plain": [
       "<Figure size 864x432 with 1 Axes>"
      ]
     },
     "metadata": {
      "needs_background": "light"
     },
     "output_type": "display_data"
    }
   ],
   "source": [
    "# Plot the resulting graph of applying the sigmoid function on x\n",
    "f, axes = plt.subplots(figsize=(12, 6))\n",
    "sigplot = sns.pointplot(x='x', y='y', data=data)\n",
    "_ = sigplot.set_xticklabels(axes.get_xticklabels()[::50]);\n",
    "_ = axes.set_xticks(axes.get_xticks()[::50])"
   ]
  },
  {
   "cell_type": "markdown",
   "metadata": {},
   "source": [
    "So above, we used x in the sigmoid function. Normally x would be the outcome of the regression formula. I.e. the sum of the beta's multiplied with their respective input variables or B.T dotted with X."
   ]
  },
  {
   "attachments": {},
   "cell_type": "markdown",
   "metadata": {},
   "source": [
    "The idea behind Logistic Regression is that you can create an n-1 dimentional plane/line that seperates the data in classes. Therefore, the model works best if features are used in which the variables have similar values within the group but differing values among groups.\n",
    "<img src=\"images/Logistic_regression/n_dimentional_plane.PNG\" alt=\"n-dimentional plane\" style=\"width: 350px;\"/>"
   ]
  },
  {
   "attachments": {},
   "cell_type": "markdown",
   "metadata": {},
   "source": [
    "To give an example, say we have a classification problem with two input variables. The regression formula will look as follows:\n",
    "<img src=\"images/Logistic_regression/regression_formula.PNG\" alt=\"regression formula\" style=\"width: 350px;\"/>"
   ]
  },
  {
   "attachments": {},
   "cell_type": "markdown",
   "metadata": {},
   "source": [
    "Now, looking at example data, we can say that B0 (or theta 0) is probably -3 since if the sum of x1 and x2 is equal to or smaller then 3, it would be classified as blue and red otherwise.\n",
    "<img src=\"images/Logistic_regression/example_data.PNG\" alt=\"example data\" style=\"width: 300px;\"/>"
   ]
  },
  {
   "attachments": {},
   "cell_type": "markdown",
   "metadata": {},
   "source": [
    "In order to create a convex function (so that we can use gradient descent), the cost function persists of two formulas. One for when y = 1 and one for y = 0. This is for y in the training set.\n",
    "<img src=\"images/Logistic_regression/2way_cost_function.PNG\" alt=\"2-way cost function\" style=\"width: 600px;\"/>"
   ]
  },
  {
   "attachments": {},
   "cell_type": "markdown",
   "metadata": {},
   "source": [
    "Of course it makes sence that for different classes the predictions vs actuals are evaluated in a different way, i.e. in the opposite way. When y=0 and the prediction is right, the error is 0. However, when the probability in the predictions goes towards 1, the error increases exponentially. Vice versa for when y = 1.\n",
    "<img src=\"images/Logistic_regression/probability_curves.PNG\" alt=\"probability curves\" style=\"width: 500px;\"/>"
   ]
  },
  {
   "attachments": {},
   "cell_type": "markdown",
   "metadata": {},
   "source": [
    "So, putting that together, it looks like this:\n",
    "<img src=\"images/Logistic_regression/curves_one_graph.PNG\" alt=\"curves one graph\" style=\"width: 300px;\"/>"
   ]
  },
  {
   "attachments": {},
   "cell_type": "markdown",
   "metadata": {},
   "source": [
    "The split in functions can however be squashed together using a trick. \n",
    "<img src=\"images/Logistic_regression/1way_log_function.PNG\" alt=\"1-way log function\" style=\"width: 500px;\"/>"
   ]
  },
  {
   "attachments": {},
   "cell_type": "markdown",
   "metadata": {},
   "source": [
    "If y = 0, everything in front of the '+'-sign is zero, and the second part becomes log(1-Htheta(x)) <br>\n",
    "if y=1, the first part becomes log(1-Htheta(x)) and the second part becomes zero. <br>\n",
    "This makes it a lot easier to optimize.\n",
    "Note that the minus sign is pulled out in front of the equation and we now take the average cost to perform the optimization on.\n",
    "<img src=\"images/Logistic_regression/extended_log_function.PNG\" alt=\"extended log function\" style=\"width: 600px;\"/>"
   ]
  },
  {
   "cell_type": "code",
   "execution_count": 10,
   "metadata": {},
   "outputs": [],
   "source": [
    "# Compute the cost function \n",
    "def cost_function(theta, X, y):\n",
    "    m = X.shape[0]\n",
    "    return -(1/m) * np.sum(y * np.log(sigmoid_f(np.dot(X, theta))) + (1-y) * np.log(1 - sigmoid_f(np.dot(X, theta))))"
   ]
  },
  {
   "attachments": {},
   "cell_type": "markdown",
   "metadata": {},
   "source": [
    "We use Gradient Descent to gradually go from a starting position to an optimal combination of beta's resulting in the lowest error. We do so by iteratively predicting the target for each observation in the dataset, check the error and update the beta's by a specific learning rate based on the partial derivatives. The partial derivatives is basically determining the slope of the error term, to which direction should the beta move and how steep is the curve. A steep curve means that a large step can be taken as current estimate is far from optimal, a derivative of close to zero means it is close to optimal and a very small change in the beta would be the best next guess.\n",
    "<img src=\"images/Logistic_regression/loss_curve.PNG\" alt=\"loss curve\" style=\"width: 500px;\"/>"
   ]
  },
  {
   "cell_type": "markdown",
   "metadata": {},
   "source": [
    "Going over all observations x times is determined by the number of epochs."
   ]
  },
  {
   "attachments": {},
   "cell_type": "markdown",
   "metadata": {},
   "source": [
    "<img src=\"images/Logistic_regression/gradient_descent.PNG\" alt=\"gradient descent\" style=\"width: 500px;\"/>"
   ]
  },
  {
   "cell_type": "markdown",
   "metadata": {},
   "source": [
    "In which alpha is the learning rate, determining how big the steps should be in upgrading the beta's."
   ]
  },
  {
   "attachments": {},
   "cell_type": "markdown",
   "metadata": {},
   "source": [
    "The partial derivatives can be calculated as follows:\n",
    "<img src=\"images/Logistic_regression/partial_derivatives.PNG\" alt=\"partial derivatives\" style=\"width: 300px;\"/>"
   ]
  },
  {
   "attachments": {},
   "cell_type": "markdown",
   "metadata": {},
   "source": [
    "Basically, we calculate the error multiplied with each observations input variable j, and take the average. <br>\n",
    "1/ nr of observations, multiplied with the sum is the same as taking the average. <br>\n",
    "h(x) is the prediction, i.e. the sigmoid function over the regression equation using the beta's from our current epoch multiplied with the x's from the observations. <br>\n",
    "y are the actuals and xj is used in the partial derivative to measure whether high error's are correlated with high values for xj. If the average error multiplied with the x-values is negative, our beta for xj is too low. If the average error multiplied with the x-values is positive, we should lower the beta for that variable. <br>\n",
    "Simultaniously updating the beta's after each epoch helps to navigate through the interdependencies, thereby using the formula as follows: \n",
    "<img src=\"images/Logistic_regression/error_calculation.PNG\" alt=\"error calculation\" style=\"width: 250px;\"/>"
   ]
  },
  {
   "cell_type": "code",
   "execution_count": 11,
   "metadata": {},
   "outputs": [],
   "source": [
    "# Compute the gradient of the cost function at the point theta\n",
    "def gradient(theta, X, y):\n",
    "    m = X.shape[0]\n",
    "    return (1 / m) * np.dot(X.T, sigmoid_f(np.dot(X, theta)) - y)"
   ]
  },
  {
   "attachments": {},
   "cell_type": "markdown",
   "metadata": {},
   "source": [
    "Now that we know the gradients, we know the direction and have an idea of the stepsize to take in changing the beta's. So we can use a learning rate to not overstep and gradually improve the error. We take the current beta and subtract the average error multiplied with a that learning rate.\n",
    "<img src=\"images/Logistic_regression/stepsize.PNG\" alt=\"stepsize\" style=\"width: 250px;\"/>"
   ]
  },
  {
   "attachments": {},
   "cell_type": "markdown",
   "metadata": {},
   "source": [
    "All at once, this looks as follows:    \n",
    "<img src=\"images/Logistic_regression/stepsize_vectors.PNG\" alt=\"stepsize vectors\" style=\"width: 250px;\"/>"
   ]
  },
  {
   "cell_type": "markdown",
   "metadata": {},
   "source": [
    "After applying linear regression inside the sigmoid function as a whole optimized by the log function using gradient descent, the best fitted S-curve has an optimal distinctive line between groups."
   ]
  },
  {
   "attachments": {},
   "cell_type": "markdown",
   "metadata": {},
   "source": [
    "<img src=\"images/Logistic_regression/S_curve.PNG\" alt=\"S-curve\" style=\"width: 1000px;\"/>"
   ]
  },
  {
   "cell_type": "markdown",
   "metadata": {},
   "source": [
    "### Example with code"
   ]
  },
  {
   "cell_type": "code",
   "execution_count": 12,
   "metadata": {},
   "outputs": [],
   "source": [
    "# As example we use the school admission dataset with 2 predictors and a binary target\n",
    "data = pd.read_csv('datasets/school_admission.csv', sep=';', decimal=',')"
   ]
  },
  {
   "cell_type": "code",
   "execution_count": 13,
   "metadata": {},
   "outputs": [
    {
     "data": {
      "text/html": [
       "<div>\n",
       "<style scoped>\n",
       "    .dataframe tbody tr th:only-of-type {\n",
       "        vertical-align: middle;\n",
       "    }\n",
       "\n",
       "    .dataframe tbody tr th {\n",
       "        vertical-align: top;\n",
       "    }\n",
       "\n",
       "    .dataframe thead th {\n",
       "        text-align: right;\n",
       "    }\n",
       "</style>\n",
       "<table border=\"1\" class=\"dataframe\">\n",
       "  <thead>\n",
       "    <tr style=\"text-align: right;\">\n",
       "      <th></th>\n",
       "      <th>Grade1</th>\n",
       "      <th>Grade2</th>\n",
       "      <th>Admitted</th>\n",
       "    </tr>\n",
       "  </thead>\n",
       "  <tbody>\n",
       "    <tr>\n",
       "      <th>0</th>\n",
       "      <td>34.623660</td>\n",
       "      <td>78.024693</td>\n",
       "      <td>0</td>\n",
       "    </tr>\n",
       "    <tr>\n",
       "      <th>1</th>\n",
       "      <td>30.286711</td>\n",
       "      <td>43.894998</td>\n",
       "      <td>0</td>\n",
       "    </tr>\n",
       "    <tr>\n",
       "      <th>2</th>\n",
       "      <td>35.847409</td>\n",
       "      <td>72.902198</td>\n",
       "      <td>0</td>\n",
       "    </tr>\n",
       "    <tr>\n",
       "      <th>3</th>\n",
       "      <td>60.182599</td>\n",
       "      <td>86.308552</td>\n",
       "      <td>1</td>\n",
       "    </tr>\n",
       "    <tr>\n",
       "      <th>4</th>\n",
       "      <td>79.032736</td>\n",
       "      <td>75.344376</td>\n",
       "      <td>1</td>\n",
       "    </tr>\n",
       "  </tbody>\n",
       "</table>\n",
       "</div>"
      ],
      "text/plain": [
       "      Grade1     Grade2  Admitted\n",
       "0  34.623660  78.024693  0       \n",
       "1  30.286711  43.894998  0       \n",
       "2  35.847409  72.902198  0       \n",
       "3  60.182599  86.308552  1       \n",
       "4  79.032736  75.344376  1       "
      ]
     },
     "execution_count": 13,
     "metadata": {},
     "output_type": "execute_result"
    }
   ],
   "source": [
    "data.head()"
   ]
  },
  {
   "cell_type": "code",
   "execution_count": 14,
   "metadata": {},
   "outputs": [
    {
     "data": {
      "image/png": "[encoded data removed]",
      "text/plain": [
       "<Figure size 432x288 with 1 Axes>"
      ]
     },
     "metadata": {
      "needs_background": "light"
     },
     "output_type": "display_data"
    }
   ],
   "source": [
    "# Lets see if there is a clear distinction between groups on the predictors axes\n",
    "_ = plt.scatter(data['Grade1'][data['Admitted'] == 0], data['Grade2'][data['Admitted'] == 0])\n",
    "_ = plt.scatter(data['Grade1'][data['Admitted'] == 1], data['Grade2'][data['Admitted'] == 1])"
   ]
  },
  {
   "cell_type": "code",
   "execution_count": 15,
   "metadata": {},
   "outputs": [],
   "source": [
    "# Split the train and testdata\n",
    "X = data[['Grade1', 'Grade2']]\n",
    "y = data['Admitted']"
   ]
  },
  {
   "cell_type": "code",
   "execution_count": 16,
   "metadata": {},
   "outputs": [],
   "source": [
    "# preformed the vectors\n",
    "X = np.c_[np.ones((X.shape[0], 1)), X]  # Add intercept term\n",
    "y = y[:, np.newaxis]  # Transform to array\n",
    "theta = np.zeros((X.shape[1], 1))  # Create vector of beta's, all starting at 0"
   ]
  },
  {
   "cell_type": "code",
   "execution_count": 17,
   "metadata": {},
   "outputs": [],
   "source": [
    "# Set parameters\n",
    "learning_rate = 0.001\n",
    "num_iter = 1000000"
   ]
  },
  {
   "cell_type": "code",
   "execution_count": 18,
   "metadata": {},
   "outputs": [
    {
     "name": "stdout",
     "output_type": "stream",
     "text": [
      "The loss for epoch 0 is 0.693\n",
      "The loss for epoch 100000 is 0.387\n",
      "The loss for epoch 200000 is 0.317\n",
      "The loss for epoch 300000 is 0.284\n",
      "The loss for epoch 400000 is 0.265\n",
      "The loss for epoch 500000 is 0.252\n",
      "The loss for epoch 600000 is 0.243\n",
      "The loss for epoch 700000 is 0.237\n",
      "The loss for epoch 800000 is 0.232\n",
      "The loss for epoch 900000 is 0.228\n"
     ]
    }
   ],
   "source": [
    "# implement the loop of gradient descent\n",
    "for epoch in range(num_iter):\n",
    "    loss = cost_function(theta, X, y)\n",
    "    grad = gradient(theta, X, y)\n",
    "    theta = theta - learning_rate * grad\n",
    "    \n",
    "    if epoch % 100000 == 0:\n",
    "        print(\"The loss for epoch {} is {}\".format(epoch, round(loss,3)))"
   ]
  },
  {
   "cell_type": "code",
   "execution_count": 19,
   "metadata": {},
   "outputs": [
    {
     "data": {
      "text/plain": [
       "array([[-15.39517866],\n",
       "       [  0.12825989],\n",
       "       [  0.12247929]])"
      ]
     },
     "execution_count": 19,
     "metadata": {},
     "output_type": "execute_result"
    }
   ],
   "source": [
    "# Now let's see the coefficients\n",
    "theta"
   ]
  },
  {
   "cell_type": "code",
   "execution_count": 20,
   "metadata": {},
   "outputs": [
    {
     "data": {
      "image/png": "[encoded data removed]",
      "text/plain": [
       "<Figure size 432x288 with 1 Axes>"
      ]
     },
     "metadata": {
      "needs_background": "light"
     },
     "output_type": "display_data"
    }
   ],
   "source": [
    "# Now using the theta array, we can define the seperation line\n",
    "_ = plt.scatter(data['Grade1'][data['Admitted'] == 0], data['Grade2'][data['Admitted'] == 0])\n",
    "_ = plt.scatter(data['Grade1'][data['Admitted'] == 1], data['Grade2'][data['Admitted'] == 1])\n",
    "ax = plt.gca()\n",
    "xvals = np.array(ax.get_xlim()).reshape(-1, 1) # Get the upper and lower bound for the x axes\n",
    "yvals = -(xvals * theta[1] + theta[0]) / theta[2]\n",
    "_ = plt.plot(xvals, yvals)"
   ]
  },
  {
   "cell_type": "code",
   "execution_count": 21,
   "metadata": {},
   "outputs": [
    {
     "name": "stdout",
     "output_type": "stream",
     "text": [
      "Probability of passing with scores 40 and 50: 0.0157\n",
      "Probability of passing with scores 90 and 80: 0.9974\n",
      "Probability of passing with scores 62 and 61: 0.507\n"
     ]
    }
   ],
   "source": [
    "print(\"Probability of passing with scores {} and {}: {}\".format(40, 50, round(sigmoid_f(40*theta[1] + 50*theta[2] + theta[0])[0],4)))\n",
    "print(\"Probability of passing with scores {} and {}: {}\".format(90, 80, round(sigmoid_f(90*theta[1] + 80*theta[2] + theta[0])[0],4)))\n",
    "print(\"Probability of passing with scores {} and {}: {}\".format(62, 61, round(sigmoid_f(62*theta[1] + 61*theta[2] + theta[0])[0],4)))"
   ]
  },
  {
   "cell_type": "code",
   "execution_count": 22,
   "metadata": {},
   "outputs": [
    {
     "data": {
      "text/plain": [
       "LogisticRegression(C=1e+20, class_weight=None, dual=False, fit_intercept=True,\n",
       "          intercept_scaling=1, max_iter=100, multi_class='ovr', n_jobs=1,\n",
       "          penalty='l2', random_state=None, solver='liblinear', tol=0.0001,\n",
       "          verbose=0, warm_start=False)"
      ]
     },
     "execution_count": 22,
     "metadata": {},
     "output_type": "execute_result"
    }
   ],
   "source": [
    "# Check with sci-kit learn\n",
    "from sklearn.linear_model import LogisticRegression\n",
    "clf = LogisticRegression(C=1e20)\n",
    "clf.fit(X[:, 1:3], y)"
   ]
  },
  {
   "cell_type": "code",
   "execution_count": 23,
   "metadata": {},
   "outputs": [],
   "source": [
    "# Create small dataset on score used as in our above fitted regression line\n",
    "pred_df = pd.DataFrame({'Grade1': [40, 90, 62], \n",
    "                        'Grade2': [50, 80, 61]})"
   ]
  },
  {
   "cell_type": "code",
   "execution_count": 24,
   "metadata": {},
   "outputs": [
    {
     "data": {
      "text/plain": [
       "array([0.00113279, 0.99992067, 0.47925037])"
      ]
     },
     "execution_count": 24,
     "metadata": {},
     "output_type": "execute_result"
    }
   ],
   "source": [
    "# Show the probabilities \n",
    "clf.predict_proba(pred_df)[:,1]"
   ]
  },
  {
   "cell_type": "markdown",
   "metadata": {},
   "source": [
    "They are about the same as the predictions that we got from our own fitted logistic regression."
   ]
  },
  {
   "cell_type": "markdown",
   "metadata": {},
   "source": [
    "Find some of the resources used below:"
   ]
  },
  {
   "cell_type": "code",
   "execution_count": 200,
   "metadata": {},
   "outputs": [],
   "source": [
    "#https://blog.goodaudience.com/logistic-regression-from-scratch-in-numpy-5841c09e425f\n",
    "#https://medium.com/@martinpella/logistic-regression-from-scratch-in-python-124c5636b8ac\n",
    "#https://www.youtube.com/watch?v=-la3q9d7AKQ&list=PLNeKWBMsAzboR8vvhnlanxCNr2V7ITuxy\n",
    "#https://stackoverflow.com/questions/38640109/logistic-regression-python-solvers-defintions"
   ]
  }
 ],
 "metadata": {
  "kernelspec": {
   "display_name": "Python 3",
   "language": "python",
   "name": "python3"
  },
  "language_info": {
   "codemirror_mode": {
    "name": "ipython",
    "version": 3
   },
   "file_extension": ".py",
   "mimetype": "text/x-python",
   "name": "python",
   "nbconvert_exporter": "python",
   "pygments_lexer": "ipython3",
   "version": "3.7.0"
  }
 },
 "nbformat": 4,
 "nbformat_minor": 2
}
