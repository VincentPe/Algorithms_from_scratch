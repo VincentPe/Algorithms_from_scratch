{
 "cells": [
  {
   "cell_type": "markdown",
   "metadata": {},
   "source": [
    "## Simple linear regression"
   ]
  },
  {
   "cell_type": "markdown",
   "metadata": {},
   "source": [
    "Simple linear regression is a linear regression model with a single explanatory variable and a continuous target variable. The purpose of this model is to predict the target variable as accurately as possible, having the dependent variable value as a function of the independent variable. <br>\n",
    "The result will be a best fitted line in which the sum of squared residuals (the difference between the predictions and the actuals squared) is as low as possible."
   ]
  },
  {
   "cell_type": "markdown",
   "metadata": {},
   "source": [
    "In this notebook I will walk through the formulas used, try to get an understanding as to why the very simple equations work in finding the optimal solution, and show the best fitted line using some plots."
   ]
  },
  {
   "cell_type": "markdown",
   "metadata": {},
   "source": [
    "The formula for simple linear regression: \n",
    "![alt text](images/simple_linear.jpg \"Simple linear regression formula\")"
   ]
  },
  {
   "cell_type": "markdown",
   "metadata": {},
   "source": [
    "In which B0 and B1 are calculated as:\n",
    "![alt text](images/beta_formulae.PNG \"Beta formulae\")"
   ]
  },
  {
   "cell_type": "markdown",
   "metadata": {},
   "source": [
    "B1 can be simplified to:\n",
    "![alt text](images/simplified_b1.PNG \"Simplified B1\")"
   ]
  },
  {
   "cell_type": "markdown",
   "metadata": {},
   "source": [
    "In which the covariance is:\n",
    "![alt text](images/simplified_b0.PNG \"Simplified B0.PNG\")"
   ]
  },
  {
   "cell_type": "markdown",
   "metadata": {},
   "source": [
    "And variance is defined as:\n",
    "![alt text](images/variance_formula.PNG \"Variance formula\")"
   ]
  },
  {
   "cell_type": "markdown",
   "metadata": {},
   "source": [
    "Why this formula? The sum of squared error (SSE) must be minimized to find the best fit\n",
    "![alt text](images/SSE_formula.PNG \"SSE formula\")"
   ]
  },
  {
   "cell_type": "markdown",
   "metadata": {},
   "source": [
    "The error is the difference between the predictions and the actuals\n",
    "![alt text](images/residuals_formula.PNG \"Residuals formula\")"
   ]
  },
  {
   "cell_type": "markdown",
   "metadata": {},
   "source": [
    "And the prediction is just the combination of beta's multiplied with X\n",
    "![alt text](images/SSE_withpred.PNG \"SSE with predictions\")"
   ]
  },
  {
   "cell_type": "markdown",
   "metadata": {},
   "source": [
    "The combinations of betas in relation to the SSE is convex:\n",
    "![alt text](images/residual_convex.PNG \"residual_convex.PNG\")"
   ]
  },
  {
   "cell_type": "markdown",
   "metadata": {},
   "source": [
    "Therefore taking partial derivatives of the last formula will result is the unsimplified b1 and b0 formulae. \n",
    "For b0, start with applying the power rule (the inner function to the power of 2 becomes 2x the inner function) \n",
    "as well as the inner function's derivative (-1 * b0 becomes -1) \n",
    "Note that the chain rule is applied to sticht the two together:\n",
    "![alt text](images/LR_derivative_step1.PNG \"LR derivative step 1\")"
   ]
  },
  {
   "cell_type": "markdown",
   "metadata": {},
   "source": [
    "Multiplying both outer functions with each other results in -2 times the inner equation. \n",
    "Simplify by dividing both sides by -2 (0 / -2 is still 0) \n",
    "Then take out the B0, as we want to know the specific formula or partical derivative for this constant \n",
    "We do so by first adding the sum from i to n for B0 to each side, and then to get the average we simply devide by n\n",
    "![alt text](images/LR_derivative_step2.PNG \"LR derivative step 2\")"
   ]
  },
  {
   "cell_type": "markdown",
   "metadata": {},
   "source": [
    "Now since we devide the side with y and b1 by n, this is basically the same as taking the average \n",
    "Therefore, we can simplify the equation more by stating that b0 is equal to the mean of y minus b1 (constant) multiplied with the mean of X\n",
    "![alt text](images/simplified_derivative_equation_b0.PNG \"Simplified derivative equation B0\")"
   ]
  },
  {
   "cell_type": "markdown",
   "metadata": {},
   "source": [
    "Similarly for B1, taking the partial derivative: \n",
    "The first steps are the same, we just have -X rather than -1. \n",
    "![alt text](images/simplified_derivative_equation_b1.PNG \"Simplified derivative equation B1\")"
   ]
  },
  {
   "cell_type": "markdown",
   "metadata": {},
   "source": [
    "This means we can expand, by multplying X with all the inner terms:\n",
    "![alt text](images/expansion_b1.PNG \"Expansion B1\")"
   ]
  },
  {
   "cell_type": "markdown",
   "metadata": {},
   "source": [
    "Already knowing that b0 is meany - b1 * meanX we can substitute this in:\n",
    "![alt text](images/substitute_b0_in_b1.PNG \"Substitute B0 in B1\")"
   ]
  },
  {
   "cell_type": "markdown",
   "metadata": {},
   "source": [
    "We can now multiply the brackets out \n",
    "Followed by replacing - sum y/n by 1/n * sum y, similar for X\n",
    "![alt text](images/multiply_brackets_b0.PNG \"Multiply brackets B0\")"
   ]
  },
  {
   "cell_type": "markdown",
   "metadata": {},
   "source": [
    "Now we have to take out the b1 as we did with b0 to get towards a formula. \n",
    "Add + b1 * sum(Xi^2) to both sides, \n",
    "Subtract b1 * 1/n sum(Xi)* sum(xi) off of both sides \n",
    "Devide both sides by both of the terms b1 gets multiplied with in order to reach b1 being singel on one side:\n",
    "![alt text](images/get_b1_to_one_side.PNG \"Get B1 to one side\")"
   ]
  },
  {
   "cell_type": "markdown",
   "metadata": {},
   "source": [
    "Again, 1/n sum(Xi) or 1/n sum(yi) can just as easily be written as the means. \n",
    "Making the formula more easy to interpret, and just another way of writing the covariance between x and y devided by the variance of x.\n",
    "![alt text](images/final_formula_b1.PNG \"Final formula B1\")"
   ]
  },
  {
   "cell_type": "markdown",
   "metadata": {},
   "source": [
    "### Proof that this is actually true"
   ]
  },
  {
   "cell_type": "code",
   "execution_count": 2,
   "metadata": {},
   "outputs": [],
   "source": [
    "# Libraries\n",
    "import pandas as pd\n",
    "import numpy as np\n",
    "import matplotlib.pyplot as plt\n",
    "import seaborn as sns\n",
    "import warnings\n",
    "\n",
    "from math import sqrt\n",
    "from sklearn.metrics import mean_squared_error\n",
    "from IPython.core.interactiveshell import InteractiveShell"
   ]
  },
  {
   "cell_type": "code",
   "execution_count": 3,
   "metadata": {},
   "outputs": [
    {
     "name": "stdout",
     "output_type": "stream",
     "text": [
      "Populating the interactive namespace from numpy and matplotlib\n"
     ]
    }
   ],
   "source": [
    "# Notebook options\n",
    "InteractiveShell.ast_node_interactivity = \"all\"\n",
    "warnings.filterwarnings('ignore')\n",
    "%pylab inline\n",
    "pylab.rcParams['figure.figsize'] = (9, 6)"
   ]
  },
  {
   "cell_type": "code",
   "execution_count": 4,
   "metadata": {},
   "outputs": [],
   "source": [
    "# UDF's\n",
    "def Variance(x):\n",
    "    return np.sum((x - np.mean(x))**2) / len(x)\n",
    "\n",
    "def Covariance(x, y):\n",
    "    return np.sum((x - np.mean(x)) * (y - np.mean(y))) / (len(x) -1)"
   ]
  },
  {
   "cell_type": "markdown",
   "metadata": {},
   "source": [
    "We will use a very simple Swedish Auto Insurance Dataset, which has two columns. The predictor is the total number of claims in a month, the target is the total payment resulting from these claims in thousands of Swedish Kronor."
   ]
  },
  {
   "cell_type": "code",
   "execution_count": 5,
   "metadata": {},
   "outputs": [],
   "source": [
    "# Import data\n",
    "data = pd.read_csv('datasets/insurance.csv', header=None)\n",
    "data.columns = ['X', 'Y']"
   ]
  },
  {
   "cell_type": "code",
   "execution_count": 7,
   "metadata": {},
   "outputs": [
    {
     "data": {
      "text/html": [
       "<div>\n",
       "<style scoped>\n",
       "    .dataframe tbody tr th:only-of-type {\n",
       "        vertical-align: middle;\n",
       "    }\n",
       "\n",
       "    .dataframe tbody tr th {\n",
       "        vertical-align: top;\n",
       "    }\n",
       "\n",
       "    .dataframe thead th {\n",
       "        text-align: right;\n",
       "    }\n",
       "</style>\n",
       "<table border=\"1\" class=\"dataframe\">\n",
       "  <thead>\n",
       "    <tr style=\"text-align: right;\">\n",
       "      <th></th>\n",
       "      <th>X</th>\n",
       "      <th>Y</th>\n",
       "    </tr>\n",
       "  </thead>\n",
       "  <tbody>\n",
       "    <tr>\n",
       "      <th>0</th>\n",
       "      <td>108</td>\n",
       "      <td>392.5</td>\n",
       "    </tr>\n",
       "    <tr>\n",
       "      <th>1</th>\n",
       "      <td>19</td>\n",
       "      <td>46.2</td>\n",
       "    </tr>\n",
       "    <tr>\n",
       "      <th>2</th>\n",
       "      <td>13</td>\n",
       "      <td>15.7</td>\n",
       "    </tr>\n",
       "    <tr>\n",
       "      <th>3</th>\n",
       "      <td>124</td>\n",
       "      <td>422.2</td>\n",
       "    </tr>\n",
       "    <tr>\n",
       "      <th>4</th>\n",
       "      <td>40</td>\n",
       "      <td>119.4</td>\n",
       "    </tr>\n",
       "  </tbody>\n",
       "</table>\n",
       "</div>"
      ],
      "text/plain": [
       "     X      Y\n",
       "0  108  392.5\n",
       "1   19   46.2\n",
       "2   13   15.7\n",
       "3  124  422.2\n",
       "4   40  119.4"
      ]
     },
     "execution_count": 7,
     "metadata": {},
     "output_type": "execute_result"
    }
   ],
   "source": [
    "# Show a preview of the data\n",
    "data.head()"
   ]
  },
  {
   "cell_type": "code",
   "execution_count": 9,
   "metadata": {},
   "outputs": [
    {
     "data": {
      "image/png": "[encoded data removed]",
      "text/plain": [
       "<Figure size 648x432 with 1 Axes>"
      ]
     },
     "metadata": {
      "needs_background": "light"
     },
     "output_type": "display_data"
    }
   ],
   "source": [
    "# Show what the plot looks like (notice the clear correlation)\n",
    "_ = sns.regplot(x = data.X, y= data.Y, fit_reg=False)"
   ]
  },
  {
   "cell_type": "code",
   "execution_count": 11,
   "metadata": {},
   "outputs": [
    {
     "name": "stdout",
     "output_type": "stream",
     "text": [
      "The mean of x is 22.9, while the mean of y = 98.19\n",
      "The variance of x is 536.66, while the variance of y = 7505.05\n"
     ]
    }
   ],
   "source": [
    "# Fore the beta calculations we need both means and variances\n",
    "mean_x = np.mean(data.X)\n",
    "mean_y = np.mean(data.Y)\n",
    "\n",
    "var_x = Variance(data.X)\n",
    "var_y = Variance(data.Y)\n",
    "\n",
    "print('The mean of x is {}, while the mean of y = {}'.format(round(mean_x, 2), round(mean_y, 2)))\n",
    "print('The variance of x is {}, while the variance of y = {}'.format(round(var_x, 2), round(var_y, 2)))"
   ]
  },
  {
   "cell_type": "code",
   "execution_count": 14,
   "metadata": {},
   "outputs": [
    {
     "name": "stdout",
     "output_type": "stream",
     "text": [
      "The UDF covariance function results in the same as Python base covariance function, this is: True\n",
      "The covariance of X and Y is: 1861.6\n"
     ]
    }
   ],
   "source": [
    "# As for the B1 we need the coviance as well\n",
    "print('The UDF covariance function results in the same as Python base covariance function, this is: {}'.format(\n",
    "      round(Covariance(data.X, data.Y),5) == round(cov(data.X, data.Y)[0,1],5))) \n",
    "print('The covariance of X and Y is: {}'.format(round(Covariance(data.X, data.Y),2)))"
   ]
  },
  {
   "cell_type": "code",
   "execution_count": 15,
   "metadata": {},
   "outputs": [
    {
     "name": "stdout",
     "output_type": "stream",
     "text": [
      "When 1 extra claim is made, on average this results in an additional payment of 3.47 Kronen\n"
     ]
    }
   ],
   "source": [
    "# B1 is the coefficient; the rate at which Y increases when X increases with 1\n",
    "B1 = Covariance(data.X, data.Y) / Variance(data.X)\n",
    "print('When 1 extra claim is made, on average this results in an additional payment of {} Kronen'.format(round(B1,2)))"
   ]
  },
  {
   "cell_type": "code",
   "execution_count": 19,
   "metadata": {},
   "outputs": [
    {
     "name": "stdout",
     "output_type": "stream",
     "text": [
      "Although it would make more sense if B0 would start at 0, it appears the line is best fitted when b0 is: 18.73\n"
     ]
    }
   ],
   "source": [
    "# B0 is the prediction for Y when X is 0\n",
    "B0 = np.mean(data.Y) - B1 * np.mean(data.X)\n",
    "print('Although it would make more sense if B0 would start at 0,' + \n",
    "      ' it appears the line is best fitted when b0 is: {}'.format(round(B0,2)))"
   ]
  },
  {
   "cell_type": "code",
   "execution_count": 20,
   "metadata": {},
   "outputs": [],
   "source": [
    "# Prediction function\n",
    "def slr_pred(x, B0, B1):\n",
    "    \"\"\"\n",
    "    Using the beta and coefficient of the number of claims, \n",
    "    we can make predictions for the expected payout for any number of claims.\n",
    "    \n",
    "    :params x: The number of claims for which we would like to know the expected payout.\n",
    "    :params B0: The starting point on the y-axis when x is 0.\n",
    "    :params B1: The coefficient of the increase in expected payout with respect to the number of claims.\n",
    "    \n",
    "    Output: Expected payout in Swedisch Kronen x1000\n",
    "    \"\"\"\n",
    "    return B0 + B1 * x"
   ]
  },
  {
   "cell_type": "code",
   "execution_count": 23,
   "metadata": {},
   "outputs": [
    {
     "name": "stdout",
     "output_type": "stream",
     "text": [
      "The expected total payment for 20 claims would be: 88.11 Swedish Kronen\n"
     ]
    }
   ],
   "source": [
    "# Let's try the function using our predefined B0 and B1\n",
    "print('The expected total payment for 20 claims would be: {} Swedish Kronen'.format(round(slr_pred(20, B0, B1), 2)))"
   ]
  },
  {
   "cell_type": "code",
   "execution_count": 24,
   "metadata": {},
   "outputs": [
    {
     "data": {
      "image/png": "[encoded data removed]",
      "text/plain": [
       "<Figure size 648x432 with 1 Axes>"
      ]
     },
     "metadata": {
      "needs_background": "light"
     },
     "output_type": "display_data"
    }
   ],
   "source": [
    "# Plot the best fitted line\n",
    "_ = plt.scatter(data['X'], data['Y'])\n",
    "_ = plt.plot([0, 130], [B0, B0 + B1 * 130], linewidth=2)"
   ]
  },
  {
   "cell_type": "markdown",
   "metadata": {},
   "source": [
    "As we can see, the line fits well into the cloud of observations."
   ]
  },
  {
   "cell_type": "code",
   "execution_count": 26,
   "metadata": {},
   "outputs": [],
   "source": [
    "# Use prediction function to predict y's for each x\n",
    "data['preds'] = slr_pred(data.X, B0, B1)"
   ]
  },
  {
   "cell_type": "code",
   "execution_count": 27,
   "metadata": {},
   "outputs": [
    {
     "data": {
      "image/png": "[encoded data removed]",
      "text/plain": [
       "<Figure size 648x432 with 1 Axes>"
      ]
     },
     "metadata": {
      "needs_background": "light"
     },
     "output_type": "display_data"
    }
   ],
   "source": [
    "# Plot the predictions versus the actuals\n",
    "_ = plt.scatter(data['X'], data['Y'])\n",
    "_ = plt.scatter(data['X'], data['preds'])"
   ]
  },
  {
   "cell_type": "code",
   "execution_count": 48,
   "metadata": {},
   "outputs": [
    {
     "name": "stdout",
     "output_type": "stream",
     "text": [
      "MSE: 1252.3689611947675\n",
      "RMSE: 35.38882537178604\n"
     ]
    }
   ],
   "source": [
    "# Check the (root) mean squared error, to see how well the model behaves\n",
    "MSE = np.sum((data['Y'] - data['preds'])**2) / len(data.X)\n",
    "RMSE = sqrt(MSE)\n",
    "\n",
    "print('MSE: {}'.format(MSE))\n",
    "print('RMSE: {}'.format(RMSE))"
   ]
  },
  {
   "cell_type": "markdown",
   "metadata": {},
   "source": [
    "With only one predictor the model is already not very far of for every estimation. <br>\n",
    "Perhaps the model could be improved by adding extra features, for example a classification of each claim being low, medium or high damage."
   ]
  }
 ],
 "metadata": {
  "kernelspec": {
   "display_name": "Python 3",
   "language": "python",
   "name": "python3"
  },
  "language_info": {
   "codemirror_mode": {
    "name": "ipython",
    "version": 3
   },
   "file_extension": ".py",
   "mimetype": "text/x-python",
   "name": "python",
   "nbconvert_exporter": "python",
   "pygments_lexer": "ipython3",
   "version": "3.7.0"
  }
 },
 "nbformat": 4,
 "nbformat_minor": 2
}
