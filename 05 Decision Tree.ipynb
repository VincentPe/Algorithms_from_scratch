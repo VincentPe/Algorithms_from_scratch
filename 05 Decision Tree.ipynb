{
 "cells": [
  {
   "cell_type": "code",
   "execution_count": 1,
   "metadata": {},
   "outputs": [],
   "source": [
    "# Import libraries\n",
    "import pandas as pd\n",
    "import numpy as np\n",
    "eps = np.finfo(float).eps  #smallest possible number (to prevent division by 0 in information gain calculation)"
   ]
  },
  {
   "cell_type": "code",
   "execution_count": 2,
   "metadata": {},
   "outputs": [],
   "source": [
    "# Notebook options\n",
    "from IPython.core.interactiveshell import InteractiveShell\n",
    "InteractiveShell.ast_node_interactivity = \"all\""
   ]
  },
  {
   "cell_type": "markdown",
   "metadata": {},
   "source": [
    "## Decision tree"
   ]
  },
  {
   "cell_type": "markdown",
   "metadata": {},
   "source": [
    "Decision trees can easily be used for both regression and classification problems. <br>\n",
    "The great advantage of the decision tree is the easy interpretation and graphical representation of the structure."
   ]
  },
  {
   "cell_type": "markdown",
   "metadata": {},
   "source": [
    "It works by starting at a root node and splitting the data based on the feature that results in the highest information gain. <br>\n",
    "For regression this is the largest decrease in Residual Sum of Squares (RSS), for classification this is the largest decrease in entropy. <br>\n",
    "After each split the data is divided and the next decision boundary is set. <br>\n",
    "This process is repeated until a stopping criterion is met (max levels/depth reached, min samples left to split, nothing left to split, etc.). <br>\n",
    "The goal is to result in groups with the same characteristics either belonging to the same class or having samilar values without overfitting the data."
   ]
  },
  {
   "cell_type": "markdown",
   "metadata": {},
   "source": [
    "After the model is fitted, the result is a flow chart like structure. This structure can be used with applied if-else conditions (e.g. if male go right if female go left), in order to predict the outcome for new unseen data. Any test observation will follow the flow schema and fall in a specific region (leaf). For the regression tree, the prediction is the mean of training values in that leaf, for classification we take the mode of that leaf."
   ]
  },
  {
   "attachments": {},
   "cell_type": "markdown",
   "metadata": {},
   "source": [
    "<img src=\"images/Decision_tree/decision_tree.PNG\" alt=\"decision tree\" style=\"width: 500px;\"/>"
   ]
  },
  {
   "attachments": {},
   "cell_type": "markdown",
   "metadata": {},
   "source": [
    "For regression problems, we use the RSS. If we have only one split, the RSS will be the sum of the squared difference between the actuals in group 1 and the mean in group 1, plus the sum of the squared difference between the actuals in group 2 and the mean in group 2.\n",
    "<img src=\"images/Decision_tree/RSS_formula.PNG\" alt=\"RSS formula\" style=\"width: 400px;\"/>"
   ]
  },
  {
   "attachments": {},
   "cell_type": "markdown",
   "metadata": {},
   "source": [
    "For classification problems, we first calculate the entropy score at the root by using the following formula:\n",
    "<img src=\"images/Decision_tree/entropy_calculation.PNG\" alt=\"entropy calculation\" style=\"width: 225px;\"/>"
   ]
  },
  {
   "attachments": {},
   "cell_type": "markdown",
   "metadata": {},
   "source": [
    "Followed by calculating the information gain of each split, choosing the split that minimizes the entropy score.\n",
    "<img src=\"images/Decision_tree/information_gain.PNG\" alt=\"information gain\" style=\"width: 300px;\"/>"
   ]
  },
  {
   "cell_type": "markdown",
   "metadata": {},
   "source": [
    "If we have only two classes, the entropy is maximum if in a leaf there are an equal number of objects from different attributes (like the group has 50 cats and 50 dogs), and this is minimum if the node is pure (like the group has only 100 cats or only 100 dogs). We ultimately want to have minimum entropy for the tree, i.e. pure or uniform classes at the leaf nodes."
   ]
  },
  {
   "cell_type": "markdown",
   "metadata": {},
   "source": [
    "Why use the log2 in the calculation? Because it scales nicely to one and is additive. <br>\n",
    "For instance, the entropy of a fair coin toss is 1 bit. A bit being a binary integer, meaning either 1 or 0 with equal probability in the case of the fair coin. 1 bit being the highest level of uncertainty; there is no possible way of predicting whether the coin toss is going to result in head or tails. <br>"
   ]
  },
  {
   "cell_type": "code",
   "execution_count": 4,
   "metadata": {},
   "outputs": [
    {
     "data": {
      "text/plain": [
       "-1.0"
      ]
     },
     "execution_count": 4,
     "metadata": {},
     "output_type": "execute_result"
    }
   ],
   "source": [
    "# The logarithm with base 2 of 0.5 = -1, meaning that 0.5 to the power of -1 will result in 2.\n",
    "np.log2(0.5)"
   ]
  },
  {
   "cell_type": "code",
   "execution_count": 5,
   "metadata": {},
   "outputs": [
    {
     "data": {
      "text/plain": [
       "-0.5"
      ]
     },
     "execution_count": 5,
     "metadata": {},
     "output_type": "execute_result"
    }
   ],
   "source": [
    "# Multiplying the log2(p) with p itself ensures the possibilities to add the values together while staying in range -1 to 0.\n",
    "0.5*np.log2(0.5)"
   ]
  },
  {
   "cell_type": "code",
   "execution_count": 6,
   "metadata": {},
   "outputs": [
    {
     "data": {
      "text/plain": [
       "1.0"
      ]
     },
     "execution_count": 6,
     "metadata": {},
     "output_type": "execute_result"
    }
   ],
   "source": [
    "# Adding these probabilities together and muliplying with -1 to get in range 0 to 1, \n",
    "# will result in an easy interpretable entropy score\n",
    "-np.sum([0.5*np.log2(0.5), 0.5*np.log2(0.5)])"
   ]
  },
  {
   "cell_type": "markdown",
   "metadata": {},
   "source": [
    "In contrast, a coin toss using a coin that has two heads and no tails has zero entropy since the coin will always come up heads, and the outcome can be predicted perfectly. A unfair coin with probabilty of 0.75 to turn up heads and 0.25 to turn up tails, is more easy to predict compared to the fair coin and more difficult to predict compared to the coin with only heads."
   ]
  },
  {
   "cell_type": "code",
   "execution_count": 7,
   "metadata": {},
   "outputs": [
    {
     "data": {
      "text/plain": [
       "0.8112781244591328"
      ]
     },
     "execution_count": 7,
     "metadata": {},
     "output_type": "execute_result"
    }
   ],
   "source": [
    "-np.sum([0.75*np.log2(0.75), 0.25*np.log2(0.25)])"
   ]
  },
  {
   "cell_type": "markdown",
   "metadata": {},
   "source": [
    "Using this entropy calculation, we see indeed that a very high or very low probability of a class in a leaf (low uncertainty) results in a low entropy and a probability closer to average results in a higher entropy (high uncertainty)."
   ]
  },
  {
   "attachments": {},
   "cell_type": "markdown",
   "metadata": {},
   "source": [
    "<img src=\"images/Decision_tree/entropy_graph.PNG\" alt=\"entropy graph\" style=\"width: 200px;\"/>"
   ]
  },
  {
   "cell_type": "markdown",
   "metadata": {},
   "source": [
    "What we want, is to gain as much information as possible in each step so that the (average) entropy in the next nodes is a low as possible. Since the entropy scores can be added, what we do is multiply each entropy in the next layer of nodes with each size, i.e. observations, in respect to the total size of the dataset. <br>\n",
    "This way, the split that seperates the target as well as possible is rewarded the most, but the reward is weighed by the number of observations in the node in order to create a model that fits best on all data rather than just a very small subset."
   ]
  },
  {
   "cell_type": "markdown",
   "metadata": {},
   "source": [
    "Let's see how it works with a dataset. The following dataset has three categorical predictor variables; preferences in taste, temperature and texture, which together can determine whether someone would eat a dish (yes/no)."
   ]
  },
  {
   "cell_type": "code",
   "execution_count": 8,
   "metadata": {},
   "outputs": [],
   "source": [
    "# Initiate dataset\n",
    "dataset = {'Taste': ['Salty','Spicy','Spicy','Spicy','Spicy','Sweet','Salty','Sweet','Spicy','Salty'],\n",
    "           'Temperature': ['Hot','Hot','Hot','Cold','Hot','Cold','Cold','Hot','Cold','Hot'],\n",
    "           'Texture': ['Soft','Soft','Hard','Hard','Hard','Soft','Soft','Soft','Soft','Hard'],\n",
    "           'Eat': ['No','No','Yes','No','Yes','Yes','No','Yes','Yes','Yes']}\n",
    "\n",
    "df = pd.DataFrame(dataset, columns = ['Taste','Temperature','Texture','Eat'])"
   ]
  },
  {
   "cell_type": "code",
   "execution_count": 9,
   "metadata": {},
   "outputs": [
    {
     "data": {
      "text/html": [
       "<div>\n",
       "<style scoped>\n",
       "    .dataframe tbody tr th:only-of-type {\n",
       "        vertical-align: middle;\n",
       "    }\n",
       "\n",
       "    .dataframe tbody tr th {\n",
       "        vertical-align: top;\n",
       "    }\n",
       "\n",
       "    .dataframe thead th {\n",
       "        text-align: right;\n",
       "    }\n",
       "</style>\n",
       "<table border=\"1\" class=\"dataframe\">\n",
       "  <thead>\n",
       "    <tr style=\"text-align: right;\">\n",
       "      <th></th>\n",
       "      <th>Taste</th>\n",
       "      <th>Temperature</th>\n",
       "      <th>Texture</th>\n",
       "      <th>Eat</th>\n",
       "    </tr>\n",
       "  </thead>\n",
       "  <tbody>\n",
       "    <tr>\n",
       "      <th>0</th>\n",
       "      <td>Salty</td>\n",
       "      <td>Hot</td>\n",
       "      <td>Soft</td>\n",
       "      <td>No</td>\n",
       "    </tr>\n",
       "    <tr>\n",
       "      <th>1</th>\n",
       "      <td>Spicy</td>\n",
       "      <td>Hot</td>\n",
       "      <td>Soft</td>\n",
       "      <td>No</td>\n",
       "    </tr>\n",
       "    <tr>\n",
       "      <th>2</th>\n",
       "      <td>Spicy</td>\n",
       "      <td>Hot</td>\n",
       "      <td>Hard</td>\n",
       "      <td>Yes</td>\n",
       "    </tr>\n",
       "    <tr>\n",
       "      <th>3</th>\n",
       "      <td>Spicy</td>\n",
       "      <td>Cold</td>\n",
       "      <td>Hard</td>\n",
       "      <td>No</td>\n",
       "    </tr>\n",
       "    <tr>\n",
       "      <th>4</th>\n",
       "      <td>Spicy</td>\n",
       "      <td>Hot</td>\n",
       "      <td>Hard</td>\n",
       "      <td>Yes</td>\n",
       "    </tr>\n",
       "    <tr>\n",
       "      <th>5</th>\n",
       "      <td>Sweet</td>\n",
       "      <td>Cold</td>\n",
       "      <td>Soft</td>\n",
       "      <td>Yes</td>\n",
       "    </tr>\n",
       "    <tr>\n",
       "      <th>6</th>\n",
       "      <td>Salty</td>\n",
       "      <td>Cold</td>\n",
       "      <td>Soft</td>\n",
       "      <td>No</td>\n",
       "    </tr>\n",
       "    <tr>\n",
       "      <th>7</th>\n",
       "      <td>Sweet</td>\n",
       "      <td>Hot</td>\n",
       "      <td>Soft</td>\n",
       "      <td>Yes</td>\n",
       "    </tr>\n",
       "    <tr>\n",
       "      <th>8</th>\n",
       "      <td>Spicy</td>\n",
       "      <td>Cold</td>\n",
       "      <td>Soft</td>\n",
       "      <td>Yes</td>\n",
       "    </tr>\n",
       "    <tr>\n",
       "      <th>9</th>\n",
       "      <td>Salty</td>\n",
       "      <td>Hot</td>\n",
       "      <td>Hard</td>\n",
       "      <td>Yes</td>\n",
       "    </tr>\n",
       "  </tbody>\n",
       "</table>\n",
       "</div>"
      ],
      "text/plain": [
       "   Taste Temperature Texture  Eat\n",
       "0  Salty         Hot    Soft   No\n",
       "1  Spicy         Hot    Soft   No\n",
       "2  Spicy         Hot    Hard  Yes\n",
       "3  Spicy        Cold    Hard   No\n",
       "4  Spicy         Hot    Hard  Yes\n",
       "5  Sweet        Cold    Soft  Yes\n",
       "6  Salty        Cold    Soft   No\n",
       "7  Sweet         Hot    Soft  Yes\n",
       "8  Spicy        Cold    Soft  Yes\n",
       "9  Salty         Hot    Hard  Yes"
      ]
     },
     "execution_count": 9,
     "metadata": {},
     "output_type": "execute_result"
    }
   ],
   "source": [
    "df"
   ]
  },
  {
   "cell_type": "markdown",
   "metadata": {},
   "source": [
    "Inside the entropy calculation we first need the probabilities of each class. This is simply the percentage of times the class occurs in the whole dataset. "
   ]
  },
  {
   "cell_type": "code",
   "execution_count": 10,
   "metadata": {},
   "outputs": [
    {
     "name": "stdout",
     "output_type": "stream",
     "text": [
      "The probability to randomly select a 'Yes' in the target column is: 0.6\n",
      "The probability to randomly select a 'No' in the target column is: 0.4\n"
     ]
    }
   ],
   "source": [
    "proba_yes = df[df['Eat'] == 'Yes'].shape[0] / df.shape[0]\n",
    "proba_no = df[df['Eat'] == 'No'].shape[0] / df.shape[0]\n",
    "print(\"The probability to randomly select a 'Yes' in the target column is: {}\".format(proba_yes))\n",
    "print(\"The probability to randomly select a 'No' in the target column is: {}\".format(proba_no))"
   ]
  },
  {
   "cell_type": "code",
   "execution_count": 11,
   "metadata": {},
   "outputs": [
    {
     "name": "stdout",
     "output_type": "stream",
     "text": [
      "The entropy score at the root is: 0.971. Close to one, therefore almost as high as possible.\n"
     ]
    }
   ],
   "source": [
    "# Start with calculating the initial entropy at the root\n",
    "S = -np.sum([proba_yes*np.log2(proba_yes), proba_no*np.log2(proba_no)])\n",
    "print(\"The entropy score at the root is: {}. Close to one, therefore almost as high as possible.\".format(round(S, 3)))"
   ]
  },
  {
   "cell_type": "markdown",
   "metadata": {},
   "source": [
    "Since we only have three variables and they all have only two/three possible answers, there are just three splits possible. This makes it easy to calculate the split that results in the highest information gain."
   ]
  },
  {
   "cell_type": "code",
   "execution_count": 12,
   "metadata": {},
   "outputs": [
    {
     "name": "stdout",
     "output_type": "stream",
     "text": [
      "The information gain for splitting the tree on taste would be: 0.21\n"
     ]
    }
   ],
   "source": [
    "# Information gain for taste:\n",
    "proba_salty = df[df['Taste'] == 'Salty'].shape[0] / df.shape[0]\n",
    "proba_spicy = df[df['Taste'] == 'Spicy'].shape[0] / df.shape[0]\n",
    "proba_sweet = df[df['Taste'] == 'Sweet'].shape[0] / df.shape[0]\n",
    "\n",
    "proba_salty_yes = df[(df['Taste'] == 'Salty') & (df['Eat'] == 'Yes')].shape[0] / df[df['Taste'] == 'Salty'].shape[0]\n",
    "proba_salty_no = df[(df['Taste'] == 'Salty') & (df['Eat'] == 'No')].shape[0] / df[df['Taste'] == 'Salty'].shape[0]\n",
    "\n",
    "proba_spicy_yes = df[(df['Taste'] == 'Spicy') & (df['Eat'] == 'Yes')].shape[0] / df[df['Taste'] == 'Spicy'].shape[0]\n",
    "proba_spicy_no = df[(df['Taste'] == 'Spicy') & (df['Eat'] == 'No')].shape[0] / df[df['Taste'] == 'Spicy'].shape[0]\n",
    "\n",
    "proba_sweet_yes = df[(df['Taste'] == 'Sweet') & (df['Eat'] == 'Yes')].shape[0] / df[df['Taste'] == 'Sweet'].shape[0]\n",
    "proba_sweet_no = df[(df['Taste'] == 'Sweet') & (df['Eat'] == 'No')].shape[0] / df[df['Taste'] == 'Sweet'].shape[0]\n",
    "\n",
    "S_salty = -np.sum([proba_salty_yes*np.log2(proba_salty_yes), proba_salty_no*np.log2(proba_salty_no)])\n",
    "S_spicy = -np.sum([proba_spicy_yes*np.log2(proba_spicy_yes), proba_spicy_no*np.log2(proba_spicy_no)])\n",
    "S_sweet = -np.sum([proba_sweet_yes*np.log2(proba_sweet_yes)]) #0 [sweet, No]\n",
    "\n",
    "E_salty = proba_salty*S_salty\n",
    "E_spicy = proba_spicy*S_spicy\n",
    "E_sweet = proba_sweet*S_sweet\n",
    "E_taste = E_salty + E_spicy + E_sweet\n",
    "print(\"The information gain for splitting the tree on taste would be: {}\".format(round(S - E_taste, 3)))"
   ]
  },
  {
   "cell_type": "code",
   "execution_count": 13,
   "metadata": {},
   "outputs": [
    {
     "name": "stdout",
     "output_type": "stream",
     "text": [
      "The information gain for splitting the tree on temperature would be: 0.02\n"
     ]
    }
   ],
   "source": [
    "# Information gain for temperature:\n",
    "proba_hot = df[df['Temperature'] == 'Hot'].shape[0] / df.shape[0]\n",
    "proba_cold = df[df['Temperature'] == 'Cold'].shape[0] / df.shape[0]\n",
    "\n",
    "proba_hot_yes = df[(df['Temperature'] == 'Hot') & (df['Eat'] == 'Yes')].shape[0] / df[df['Temperature'] == 'Hot'].shape[0]\n",
    "proba_hot_no = df[(df['Temperature'] == 'Hot') & (df['Eat'] == 'No')].shape[0] / df[df['Temperature'] == 'Hot'].shape[0]\n",
    "\n",
    "proba_cold_yes = df[(df['Temperature'] == 'Cold') & (df['Eat'] == 'Yes')].shape[0] / df[df['Temperature'] == 'Cold'].shape[0]\n",
    "proba_cold_no = df[(df['Temperature'] == 'Cold') & (df['Eat'] == 'No')].shape[0] / df[df['Temperature'] == 'Cold'].shape[0]\n",
    "\n",
    "S_hot = -np.sum([proba_hot_yes*np.log2(proba_hot_yes), proba_hot_no*np.log2(proba_hot_no)])\n",
    "S_cold = -np.sum([proba_cold_yes*np.log2(proba_cold_yes), proba_cold_no*np.log2(proba_cold_no)])\n",
    "\n",
    "E_hot = proba_hot*S_hot\n",
    "E_cold = proba_cold*S_cold\n",
    "E_temp = E_hot + E_cold\n",
    "print(\"The information gain for splitting the tree on temperature would be: {}\".format(round(S - E_temp, 3)))"
   ]
  },
  {
   "cell_type": "code",
   "execution_count": 14,
   "metadata": {},
   "outputs": [
    {
     "name": "stdout",
     "output_type": "stream",
     "text": [
      "The information gain for splitting the tree on texture would be: 0.046\n"
     ]
    }
   ],
   "source": [
    "# Information gain for texture:\n",
    "proba_soft = df[df['Texture'] == 'Soft'].shape[0] / df.shape[0]\n",
    "proba_hard = df[df['Texture'] == 'Hard'].shape[0] / df.shape[0]\n",
    "\n",
    "proba_soft_yes = df[(df['Texture'] == 'Soft') & (df['Eat'] == 'Yes')].shape[0] / df[df['Texture'] == 'Soft'].shape[0]\n",
    "proba_soft_no = df[(df['Texture'] == 'Soft') & (df['Eat'] == 'No')].shape[0] / df[df['Texture'] == 'Soft'].shape[0]\n",
    "\n",
    "proba_hard_yes = df[(df['Texture'] == 'Hard') & (df['Eat'] == 'Yes')].shape[0] / df[df['Texture'] == 'Hard'].shape[0]\n",
    "proba_hard_no = df[(df['Texture'] == 'Hard') & (df['Eat'] == 'No')].shape[0] / df[df['Texture'] == 'Hard'].shape[0]\n",
    "\n",
    "S_soft = -np.sum([proba_soft_yes*np.log2(proba_soft_yes), proba_soft_no*np.log2(proba_soft_no)])\n",
    "S_hard = -np.sum([proba_hard_yes*np.log2(proba_hard_yes), proba_hard_no*np.log2(proba_hard_no)])\n",
    "\n",
    "E_soft = proba_soft*S_soft\n",
    "E_hard = proba_hard*S_hard\n",
    "E_texture = E_soft + E_hard\n",
    "print(\"The information gain for splitting the tree on texture would be: {}\".format(round(S - E_texture, 3)))"
   ]
  },
  {
   "attachments": {},
   "cell_type": "markdown",
   "metadata": {},
   "source": [
    "Looking at the information gains for the categorical features, we see that the first split (the split with the highest information gain) is on taste. We can already see that all the people preferring a sweet taste will eat this product. For the branches spicy and salty, we will need more branches to get pure leafs.\n",
    "<img src=\"images/Decision_tree/start_tree.PNG\" alt=\"start_tree\" style=\"width: 500px;\"/>"
   ]
  },
  {
   "cell_type": "markdown",
   "metadata": {},
   "source": [
    "Note that a decision tree can sometimes just split into two rather than 3 (or more), in this case we would e.g. specify sweet or not sweet."
   ]
  },
  {
   "attachments": {},
   "cell_type": "markdown",
   "metadata": {},
   "source": [
    "Now we continue to do the same thing for the branches that are not pure yet, i.e. salty and spicy. There are now only two possible splits left; texture and temperature. We start by calculating a new entropy score for the nodes, followed by the information gains of the possible splits.\n",
    "<img src=\"images/Decision_tree/continued_IG.PNG\" alt=\"continued IG\" style=\"width: 450px;\"/>"
   ]
  },
  {
   "attachments": {},
   "cell_type": "markdown",
   "metadata": {},
   "source": [
    "<img src=\"images/Decision_tree/continued_IG2.PNG\" alt=\"continued IG2\" style=\"width: 450px;\"/>"
   ]
  },
  {
   "attachments": {},
   "cell_type": "markdown",
   "metadata": {},
   "source": [
    "The best split in the salty branch would be texture, which would result in pure leafs. In the spicy branch we need to get a little deeper, resulting in a complete tree looking as follows.\n",
    "<img src=\"images/Decision_tree/complete_tree.PNG\" alt=\"complete tree\" style=\"width: 600px;\"/>"
   ]
  },
  {
   "cell_type": "markdown",
   "metadata": {},
   "source": [
    "Let's now work this example out more structured, using functions. <br>\n",
    "Note that the target variable should be in the last column."
   ]
  },
  {
   "cell_type": "code",
   "execution_count": 15,
   "metadata": {},
   "outputs": [],
   "source": [
    "# Create function to calculate initial entropy score at the root\n",
    "def find_entropy(df):\n",
    "    target = df.keys()[-1]   \n",
    "    entropy = 0\n",
    "    values = df[target].unique()\n",
    "    for value in values:\n",
    "        fraction = df[target].value_counts()[value]/len(df[target])\n",
    "        entropy += -fraction*np.log2(fraction)\n",
    "    return entropy"
   ]
  },
  {
   "cell_type": "code",
   "execution_count": 16,
   "metadata": {},
   "outputs": [
    {
     "data": {
      "text/plain": [
       "0.9709505944546686"
      ]
     },
     "execution_count": 16,
     "metadata": {},
     "output_type": "execute_result"
    }
   ],
   "source": [
    "# Show the entropy score at the root\n",
    "find_entropy(df)"
   ]
  },
  {
   "cell_type": "code",
   "execution_count": 17,
   "metadata": {},
   "outputs": [],
   "source": [
    "# Create function to calculate entropy scores per feature\n",
    "def find_entropy_attribute(df, feature):\n",
    "    target = df.keys()[-1]  \n",
    "    target_values = df[target].unique()  \n",
    "    feature_values = df[feature].unique()\n",
    "    entropy2 = 0\n",
    "    for feature_value in feature_values:\n",
    "        entropy = 0\n",
    "        for target_value in target_values:\n",
    "            num = len(df[feature][df[feature] == feature_value][df[target] == target_value])\n",
    "            den = len(df[feature][df[feature] == feature_value])\n",
    "            fraction = num/(den+eps)\n",
    "            entropy += -fraction*np.log2(fraction+eps)\n",
    "        fraction2 = den/len(df)\n",
    "        entropy2 += -fraction2*entropy\n",
    "    return abs(entropy2)"
   ]
  },
  {
   "cell_type": "code",
   "execution_count": 18,
   "metadata": {},
   "outputs": [
    {
     "name": "stdout",
     "output_type": "stream",
     "text": [
      "The IG when splitting in 'Taste' would be: 0.21\n",
      "The IG when splitting in 'Texture' would be: 0.046\n",
      "The IG when splitting in 'Temperature' would be: 0.02\n"
     ]
    }
   ],
   "source": [
    "# Show the different levels of Information Gains at the first split\n",
    "print(\"The IG when splitting in 'Taste' would be: {}\".format(round(find_entropy(df) - find_entropy_attribute(df, 'Taste'), 3)))\n",
    "print(\"The IG when splitting in 'Texture' would be: {}\".format(round(find_entropy(df) - find_entropy_attribute(df, 'Texture'), 3)))\n",
    "print(\"The IG when splitting in 'Temperature' would be: {}\".format(round(find_entropy(df) - find_entropy_attribute(df, 'Temperature'), 3)))"
   ]
  },
  {
   "cell_type": "code",
   "execution_count": 19,
   "metadata": {},
   "outputs": [],
   "source": [
    "# Create a function that determines a winning split using the find entropy function inside of it\n",
    "def find_winner(df):\n",
    "    IG = []\n",
    "    for key in df.keys()[:-1]:\n",
    "        IG.append(find_entropy(df)-find_entropy_attribute(df,key))\n",
    "    return df.keys()[:-1][np.argmax(IG)]"
   ]
  },
  {
   "cell_type": "code",
   "execution_count": 20,
   "metadata": {},
   "outputs": [
    {
     "data": {
      "text/plain": [
       "'Taste'"
      ]
     },
     "execution_count": 20,
     "metadata": {},
     "output_type": "execute_result"
    }
   ],
   "source": [
    "# Show that indeed the best split is on Taste\n",
    "find_winner(df)"
   ]
  },
  {
   "cell_type": "code",
   "execution_count": 21,
   "metadata": {},
   "outputs": [],
   "source": [
    "# Create a function that returns the remaining dataframe at a node\n",
    "def get_subtable(df, node, value):\n",
    "    return df[df[node] == value].reset_index(drop=True)"
   ]
  },
  {
   "cell_type": "code",
   "execution_count": 22,
   "metadata": {},
   "outputs": [
    {
     "data": {
      "text/html": [
       "<div>\n",
       "<style scoped>\n",
       "    .dataframe tbody tr th:only-of-type {\n",
       "        vertical-align: middle;\n",
       "    }\n",
       "\n",
       "    .dataframe tbody tr th {\n",
       "        vertical-align: top;\n",
       "    }\n",
       "\n",
       "    .dataframe thead th {\n",
       "        text-align: right;\n",
       "    }\n",
       "</style>\n",
       "<table border=\"1\" class=\"dataframe\">\n",
       "  <thead>\n",
       "    <tr style=\"text-align: right;\">\n",
       "      <th></th>\n",
       "      <th>Taste</th>\n",
       "      <th>Temperature</th>\n",
       "      <th>Texture</th>\n",
       "      <th>Eat</th>\n",
       "    </tr>\n",
       "  </thead>\n",
       "  <tbody>\n",
       "    <tr>\n",
       "      <th>0</th>\n",
       "      <td>Spicy</td>\n",
       "      <td>Hot</td>\n",
       "      <td>Soft</td>\n",
       "      <td>No</td>\n",
       "    </tr>\n",
       "    <tr>\n",
       "      <th>1</th>\n",
       "      <td>Spicy</td>\n",
       "      <td>Hot</td>\n",
       "      <td>Hard</td>\n",
       "      <td>Yes</td>\n",
       "    </tr>\n",
       "    <tr>\n",
       "      <th>2</th>\n",
       "      <td>Spicy</td>\n",
       "      <td>Cold</td>\n",
       "      <td>Hard</td>\n",
       "      <td>No</td>\n",
       "    </tr>\n",
       "    <tr>\n",
       "      <th>3</th>\n",
       "      <td>Spicy</td>\n",
       "      <td>Hot</td>\n",
       "      <td>Hard</td>\n",
       "      <td>Yes</td>\n",
       "    </tr>\n",
       "    <tr>\n",
       "      <th>4</th>\n",
       "      <td>Spicy</td>\n",
       "      <td>Cold</td>\n",
       "      <td>Soft</td>\n",
       "      <td>Yes</td>\n",
       "    </tr>\n",
       "  </tbody>\n",
       "</table>\n",
       "</div>"
      ],
      "text/plain": [
       "   Taste Temperature Texture  Eat\n",
       "0  Spicy         Hot    Soft   No\n",
       "1  Spicy         Hot    Hard  Yes\n",
       "2  Spicy        Cold    Hard   No\n",
       "3  Spicy         Hot    Hard  Yes\n",
       "4  Spicy        Cold    Soft  Yes"
      ]
     },
     "execution_count": 22,
     "metadata": {},
     "output_type": "execute_result"
    }
   ],
   "source": [
    "# Show the observations that would be left after first splitting on Taste and going in the 'Spicy' branch\n",
    "get_subtable(df, 'Taste', 'Spicy')"
   ]
  },
  {
   "cell_type": "code",
   "execution_count": 23,
   "metadata": {},
   "outputs": [],
   "source": [
    "# Create a function that puts it all together and returns the final decision tree\n",
    "def buildTree(df, tree=None): \n",
    "    target = df.keys()[-1]   \n",
    "\n",
    "    # Get the attribute with the maximum information gain\n",
    "    node = find_winner(df)\n",
    "    \n",
    "    # Get distinct values of that attribute\n",
    "    attValue = np.unique(df[node])\n",
    "    \n",
    "    # If we started this tree at the root, we create an empty dictionary to initialize the tree    \n",
    "    if tree is None:                    \n",
    "        tree={}\n",
    "        tree[node] = {}\n",
    "    \n",
    "    # We make a loop to construct a tree by calling this function recursively. \n",
    "    # In this we check if the subset is pure and stops if it is pure. \n",
    "\n",
    "    for value in attValue:\n",
    "        \n",
    "        subtable = get_subtable(df, node, value)\n",
    "        clValue, counts = np.unique(subtable['Eat'], return_counts=True)                        \n",
    "        \n",
    "        if len(counts)==1: # Checking purity of subset\n",
    "            tree[node][value] = clValue[0]                                                    \n",
    "        else:        \n",
    "            tree[node][value] = buildTree(subtable) # Calling the function recursively \n",
    "                   \n",
    "    return tree"
   ]
  },
  {
   "cell_type": "markdown",
   "metadata": {},
   "source": [
    "__Some additional information about this function.__ <br>\n",
    "We continue to split untill all nodes are pure, this function does not include a stopping mechanism for e.g. max depth or min samples left to split. Therefore, when using this function on a larger dataset it is likely to overfit. <br>\n",
    "Important to understand is that this function is recursive, meaning we start at the root and add branches after each other until each leaf is pure. If the leaf in a branch is not pure yet, the function will be called again (from inside the function) to create another branch at the current node."
   ]
  },
  {
   "cell_type": "code",
   "execution_count": 24,
   "metadata": {},
   "outputs": [
    {
     "data": {
      "text/plain": [
       "array(['Salty', 'Spicy', 'Sweet'], dtype=object)"
      ]
     },
     "execution_count": 24,
     "metadata": {},
     "output_type": "execute_result"
    }
   ],
   "source": [
    "# For each value in the winning attribute we will perform the loop..\n",
    "node = find_winner(df)\n",
    "attValue = np.unique(df[node])\n",
    "attValue "
   ]
  },
  {
   "cell_type": "code",
   "execution_count": 25,
   "metadata": {},
   "outputs": [
    {
     "data": {
      "text/plain": [
       "{'Taste': {}}"
      ]
     },
     "execution_count": 25,
     "metadata": {},
     "output_type": "execute_result"
    }
   ],
   "source": [
    "# Initializing the tree structure with the winning attribute\n",
    "tree={}\n",
    "tree[node] = {}\n",
    "tree"
   ]
  },
  {
   "cell_type": "code",
   "execution_count": 26,
   "metadata": {},
   "outputs": [
    {
     "data": {
      "text/html": [
       "<div>\n",
       "<style scoped>\n",
       "    .dataframe tbody tr th:only-of-type {\n",
       "        vertical-align: middle;\n",
       "    }\n",
       "\n",
       "    .dataframe tbody tr th {\n",
       "        vertical-align: top;\n",
       "    }\n",
       "\n",
       "    .dataframe thead th {\n",
       "        text-align: right;\n",
       "    }\n",
       "</style>\n",
       "<table border=\"1\" class=\"dataframe\">\n",
       "  <thead>\n",
       "    <tr style=\"text-align: right;\">\n",
       "      <th></th>\n",
       "      <th>Taste</th>\n",
       "      <th>Temperature</th>\n",
       "      <th>Texture</th>\n",
       "      <th>Eat</th>\n",
       "    </tr>\n",
       "  </thead>\n",
       "  <tbody>\n",
       "    <tr>\n",
       "      <th>0</th>\n",
       "      <td>Salty</td>\n",
       "      <td>Hot</td>\n",
       "      <td>Soft</td>\n",
       "      <td>No</td>\n",
       "    </tr>\n",
       "    <tr>\n",
       "      <th>1</th>\n",
       "      <td>Salty</td>\n",
       "      <td>Cold</td>\n",
       "      <td>Soft</td>\n",
       "      <td>No</td>\n",
       "    </tr>\n",
       "    <tr>\n",
       "      <th>2</th>\n",
       "      <td>Salty</td>\n",
       "      <td>Hot</td>\n",
       "      <td>Hard</td>\n",
       "      <td>Yes</td>\n",
       "    </tr>\n",
       "  </tbody>\n",
       "</table>\n",
       "</div>"
      ],
      "text/plain": [
       "   Taste Temperature Texture  Eat\n",
       "0  Salty         Hot    Soft   No\n",
       "1  Salty        Cold    Soft   No\n",
       "2  Salty         Hot    Hard  Yes"
      ]
     },
     "execution_count": 26,
     "metadata": {},
     "output_type": "execute_result"
    }
   ],
   "source": [
    "# Use 'Salty' as a taste example to show the subtable on which the branch will be based\n",
    "value = 'Salty'\n",
    "subtable = get_subtable(df, node, value)\n",
    "subtable"
   ]
  },
  {
   "cell_type": "code",
   "execution_count": 27,
   "metadata": {},
   "outputs": [
    {
     "data": {
      "text/plain": [
       "(array(['No', 'Yes'], dtype=object), array([2, 1], dtype=int64))"
      ]
     },
     "execution_count": 27,
     "metadata": {},
     "output_type": "execute_result"
    }
   ],
   "source": [
    "# The length of the counts is > 1, therefore the leaf is not yet pure. Meaning the subtable will be fed into the function again,\n",
    "# to continue adding branches \n",
    "np.unique(subtable['Eat'], return_counts=True)"
   ]
  },
  {
   "cell_type": "code",
   "execution_count": 28,
   "metadata": {},
   "outputs": [
    {
     "data": {
      "text/plain": [
       "{'Taste': {'Salty': {'Texture': {'Hard': 'Yes', 'Soft': 'No'}},\n",
       "  'Spicy': {'Temperature': {'Cold': {'Texture': {'Hard': 'No', 'Soft': 'Yes'}},\n",
       "    'Hot': {'Texture': {'Hard': 'Yes', 'Soft': 'No'}}}},\n",
       "  'Sweet': 'Yes'}}"
      ]
     },
     "execution_count": 28,
     "metadata": {},
     "output_type": "execute_result"
    }
   ],
   "source": [
    "# The resulting tree of the Eat-dataset\n",
    "eat_tree = buildTree(df)\n",
    "eat_tree"
   ]
  },
  {
   "cell_type": "markdown",
   "metadata": {},
   "source": [
    "As we can see, this corresponds to the immage of the tree we produced earlier. <br>\n",
    "Now we just need a function that will use this tree to predict a Yes/No value based on the input variables. "
   ]
  },
  {
   "cell_type": "code",
   "execution_count": 29,
   "metadata": {},
   "outputs": [],
   "source": [
    "# Predicting function using the tree created before\n",
    "def predict(inst, tree):\n",
    "\n",
    "    for nodes in tree.keys():        \n",
    "        \n",
    "        value = inst[nodes]\n",
    "        tree = tree[nodes][value]\n",
    "        prediction = 0\n",
    "            \n",
    "        if type(tree) is dict:\n",
    "            prediction = predict(inst, tree)\n",
    "        else:\n",
    "            prediction = tree\n",
    "            break;                            \n",
    "        \n",
    "    return prediction"
   ]
  },
  {
   "cell_type": "markdown",
   "metadata": {},
   "source": [
    "What we do is recursively going through the tree that we created earlier. Starting at the root, going through the branches based on the input values, each time returning a smaller sub-part of the tree until we reach a leaf or end point."
   ]
  },
  {
   "cell_type": "code",
   "execution_count": 30,
   "metadata": {},
   "outputs": [],
   "source": [
    "# Let's create an example of someone who would prefer their food Salty, Cold and Soft.\n",
    "new_data = pd.DataFrame({'Taste': ['Salty'], \n",
    "                         'Temperature': ['Cold'], \n",
    "                         'Texture': ['Soft']})"
   ]
  },
  {
   "cell_type": "code",
   "execution_count": 31,
   "metadata": {},
   "outputs": [
    {
     "data": {
      "text/plain": [
       "Taste          Salty\n",
       "Temperature     Cold\n",
       "Texture         Soft\n",
       "Name: 0, dtype: object"
      ]
     },
     "execution_count": 31,
     "metadata": {},
     "output_type": "execute_result"
    }
   ],
   "source": [
    "inst = new_data.iloc[0]\n",
    "inst"
   ]
  },
  {
   "cell_type": "code",
   "execution_count": 32,
   "metadata": {},
   "outputs": [
    {
     "data": {
      "text/plain": [
       "dict_keys(['Taste'])"
      ]
     },
     "execution_count": 32,
     "metadata": {},
     "output_type": "execute_result"
    }
   ],
   "source": [
    "# Starting at the root we see we must start with Taste\n",
    "eat_tree.keys()"
   ]
  },
  {
   "cell_type": "code",
   "execution_count": 33,
   "metadata": {},
   "outputs": [
    {
     "data": {
      "text/plain": [
       "('Salty', {'Texture': {'Hard': 'Yes', 'Soft': 'No'}})"
      ]
     },
     "execution_count": 33,
     "metadata": {},
     "output_type": "execute_result"
    }
   ],
   "source": [
    "# let's pick the value that we input for Taste and show the remaining tree\n",
    "nodes = 'Taste'\n",
    "\n",
    "value = inst[nodes]\n",
    "tree = eat_tree[nodes][value]\n",
    "\n",
    "value, tree"
   ]
  },
  {
   "cell_type": "code",
   "execution_count": 34,
   "metadata": {},
   "outputs": [
    {
     "data": {
      "text/plain": [
       "dict"
      ]
     },
     "execution_count": 34,
     "metadata": {},
     "output_type": "execute_result"
    }
   ],
   "source": [
    "# We see that the type is still a dictionary so we should continue by using the resulting tree in the function again\n",
    "type(tree)"
   ]
  },
  {
   "cell_type": "code",
   "execution_count": 35,
   "metadata": {},
   "outputs": [
    {
     "data": {
      "text/plain": [
       "dict_keys(['Texture'])"
      ]
     },
     "execution_count": 35,
     "metadata": {},
     "output_type": "execute_result"
    }
   ],
   "source": [
    "# The next split is texture\n",
    "tree.keys()"
   ]
  },
  {
   "cell_type": "code",
   "execution_count": 36,
   "metadata": {},
   "outputs": [
    {
     "data": {
      "text/plain": [
       "('Soft', 'No')"
      ]
     },
     "execution_count": 36,
     "metadata": {},
     "output_type": "execute_result"
    }
   ],
   "source": [
    "# let's pick the value that we input for Taste and show the remaining tree\n",
    "nodes = 'Texture'\n",
    "\n",
    "value = inst[nodes]\n",
    "tree = tree[nodes][value]\n",
    "\n",
    "value, tree"
   ]
  },
  {
   "cell_type": "code",
   "execution_count": 37,
   "metadata": {},
   "outputs": [
    {
     "data": {
      "text/plain": [
       "str"
      ]
     },
     "execution_count": 37,
     "metadata": {},
     "output_type": "execute_result"
    }
   ],
   "source": [
    "# The resulting tree is now a string and so we have our answer; No\n",
    "type(tree)"
   ]
  },
  {
   "cell_type": "code",
   "execution_count": 38,
   "metadata": {},
   "outputs": [
    {
     "data": {
      "text/plain": [
       "'No'"
      ]
     },
     "execution_count": 38,
     "metadata": {},
     "output_type": "execute_result"
    }
   ],
   "source": [
    "# Now that we understand the workings we can have the function do it for us\n",
    "# For this instance the prediction is 'No'\n",
    "predict(inst, eat_tree)"
   ]
  },
  {
   "cell_type": "markdown",
   "metadata": {},
   "source": [
    "### Check with SKlearn"
   ]
  },
  {
   "cell_type": "code",
   "execution_count": 39,
   "metadata": {},
   "outputs": [],
   "source": [
    "import pydotplus\n",
    "\n",
    "from sklearn import tree\n",
    "from sklearn.preprocessing import LabelEncoder\n",
    "from sklearn.tree import export_graphviz\n",
    "from sklearn.externals.six import StringIO  \n",
    "from IPython.display import Image  "
   ]
  },
  {
   "cell_type": "code",
   "execution_count": 40,
   "metadata": {},
   "outputs": [],
   "source": [
    "import os\n",
    "os.environ[\"PATH\"] += os.pathsep + 'C:\\Program Files (x86)\\Graphviz2.38/bin/'"
   ]
  },
  {
   "cell_type": "markdown",
   "metadata": {},
   "source": [
    "SKlearn's DecisionTreeClassifier does it a little differently. It requires the data to be integers instead of strings, thus losing the information of categorical features. To prevent this, dummies should be created first. This however results in two-way splits only (unlike our example, where we first split on 3 tastes). It does however make it easier to split on continuous variables (which were not in our example). <br> \n",
    "Knowing the difference, let's check with SKlearn whether the results are still the same."
   ]
  },
  {
   "cell_type": "code",
   "execution_count": 42,
   "metadata": {},
   "outputs": [],
   "source": [
    "# Encode the variables to integers and create dummies\n",
    "dummie_cols = df['Taste'].unique()\n",
    "dummies = pd.get_dummies(df['Taste'])\n",
    "dummies.columns = dummie_cols\n",
    "\n",
    "for col in df.columns[1:]:\n",
    "    le = LabelEncoder()\n",
    "    df[col] = le.fit_transform(df[col])\n",
    "    \n",
    "df = pd.concat([dummies, df.iloc[:,1:]], axis=1)"
   ]
  },
  {
   "cell_type": "code",
   "execution_count": 50,
   "metadata": {},
   "outputs": [
    {
     "data": {
      "text/html": [
       "<div>\n",
       "<style scoped>\n",
       "    .dataframe tbody tr th:only-of-type {\n",
       "        vertical-align: middle;\n",
       "    }\n",
       "\n",
       "    .dataframe tbody tr th {\n",
       "        vertical-align: top;\n",
       "    }\n",
       "\n",
       "    .dataframe thead th {\n",
       "        text-align: right;\n",
       "    }\n",
       "</style>\n",
       "<table border=\"1\" class=\"dataframe\">\n",
       "  <thead>\n",
       "    <tr style=\"text-align: right;\">\n",
       "      <th></th>\n",
       "      <th>Salty</th>\n",
       "      <th>Spicy</th>\n",
       "      <th>Sweet</th>\n",
       "      <th>Temperature</th>\n",
       "      <th>Texture</th>\n",
       "      <th>Eat</th>\n",
       "    </tr>\n",
       "  </thead>\n",
       "  <tbody>\n",
       "    <tr>\n",
       "      <th>0</th>\n",
       "      <td>1</td>\n",
       "      <td>0</td>\n",
       "      <td>0</td>\n",
       "      <td>1</td>\n",
       "      <td>1</td>\n",
       "      <td>0</td>\n",
       "    </tr>\n",
       "    <tr>\n",
       "      <th>1</th>\n",
       "      <td>0</td>\n",
       "      <td>1</td>\n",
       "      <td>0</td>\n",
       "      <td>1</td>\n",
       "      <td>1</td>\n",
       "      <td>0</td>\n",
       "    </tr>\n",
       "    <tr>\n",
       "      <th>2</th>\n",
       "      <td>0</td>\n",
       "      <td>1</td>\n",
       "      <td>0</td>\n",
       "      <td>1</td>\n",
       "      <td>0</td>\n",
       "      <td>1</td>\n",
       "    </tr>\n",
       "    <tr>\n",
       "      <th>3</th>\n",
       "      <td>0</td>\n",
       "      <td>1</td>\n",
       "      <td>0</td>\n",
       "      <td>0</td>\n",
       "      <td>0</td>\n",
       "      <td>0</td>\n",
       "    </tr>\n",
       "    <tr>\n",
       "      <th>4</th>\n",
       "      <td>0</td>\n",
       "      <td>1</td>\n",
       "      <td>0</td>\n",
       "      <td>1</td>\n",
       "      <td>0</td>\n",
       "      <td>1</td>\n",
       "    </tr>\n",
       "    <tr>\n",
       "      <th>5</th>\n",
       "      <td>0</td>\n",
       "      <td>0</td>\n",
       "      <td>1</td>\n",
       "      <td>0</td>\n",
       "      <td>1</td>\n",
       "      <td>1</td>\n",
       "    </tr>\n",
       "    <tr>\n",
       "      <th>6</th>\n",
       "      <td>1</td>\n",
       "      <td>0</td>\n",
       "      <td>0</td>\n",
       "      <td>0</td>\n",
       "      <td>1</td>\n",
       "      <td>0</td>\n",
       "    </tr>\n",
       "    <tr>\n",
       "      <th>7</th>\n",
       "      <td>0</td>\n",
       "      <td>0</td>\n",
       "      <td>1</td>\n",
       "      <td>1</td>\n",
       "      <td>1</td>\n",
       "      <td>1</td>\n",
       "    </tr>\n",
       "    <tr>\n",
       "      <th>8</th>\n",
       "      <td>0</td>\n",
       "      <td>1</td>\n",
       "      <td>0</td>\n",
       "      <td>0</td>\n",
       "      <td>1</td>\n",
       "      <td>1</td>\n",
       "    </tr>\n",
       "    <tr>\n",
       "      <th>9</th>\n",
       "      <td>1</td>\n",
       "      <td>0</td>\n",
       "      <td>0</td>\n",
       "      <td>1</td>\n",
       "      <td>0</td>\n",
       "      <td>1</td>\n",
       "    </tr>\n",
       "  </tbody>\n",
       "</table>\n",
       "</div>"
      ],
      "text/plain": [
       "   Salty  Spicy  Sweet  Temperature  Texture  Eat\n",
       "0      1      0      0            1        1    0\n",
       "1      0      1      0            1        1    0\n",
       "2      0      1      0            1        0    1\n",
       "3      0      1      0            0        0    0\n",
       "4      0      1      0            1        0    1\n",
       "5      0      0      1            0        1    1\n",
       "6      1      0      0            0        1    0\n",
       "7      0      0      1            1        1    1\n",
       "8      0      1      0            0        1    1\n",
       "9      1      0      0            1        0    1"
      ]
     },
     "execution_count": 50,
     "metadata": {},
     "output_type": "execute_result"
    }
   ],
   "source": [
    "# As we can see, there are no some different (more specific on Taste) splits possible\n",
    "df"
   ]
  },
  {
   "cell_type": "code",
   "execution_count": 51,
   "metadata": {},
   "outputs": [],
   "source": [
    "# We should first split our data in predictors and target variables\n",
    "X = df[['Salty', 'Spicy', 'Sweet', 'Temperature', 'Texture']]\n",
    "Y = df[['Eat']]"
   ]
  },
  {
   "cell_type": "code",
   "execution_count": 52,
   "metadata": {},
   "outputs": [],
   "source": [
    "# Create a decesion tree instance with parameters the same as in our example (clf = classifier)\n",
    "clf = tree.DecisionTreeClassifier(criterion = 'entropy', \n",
    "                                  max_depth = None, \n",
    "                                  min_samples_split = 2)"
   ]
  },
  {
   "cell_type": "code",
   "execution_count": 53,
   "metadata": {},
   "outputs": [
    {
     "data": {
      "text/plain": [
       "DecisionTreeClassifier(class_weight=None, criterion='entropy', max_depth=None,\n",
       "            max_features=None, max_leaf_nodes=None,\n",
       "            min_impurity_decrease=0.0, min_impurity_split=None,\n",
       "            min_samples_leaf=1, min_samples_split=2,\n",
       "            min_weight_fraction_leaf=0.0, presort=False, random_state=None,\n",
       "            splitter='best')"
      ]
     },
     "execution_count": 53,
     "metadata": {},
     "output_type": "execute_result"
    }
   ],
   "source": [
    "# Build a decision tree classifier from the training set\n",
    "clf.fit(X, Y)"
   ]
  },
  {
   "cell_type": "code",
   "execution_count": 57,
   "metadata": {},
   "outputs": [
    {
     "data": {
      "text/plain": [
       "array([[1, 0, 0, 0, 1]], dtype=int64)"
      ]
     },
     "execution_count": 57,
     "metadata": {},
     "output_type": "execute_result"
    }
   ],
   "source": [
    "# In integer terms our Salty, Cold, Soft data is now 0, 0, 1\n",
    "new_data = pd.DataFrame({'Salty': [1],\n",
    "                         'Spicy': [0],\n",
    "                         'Sweet': [0],\n",
    "                         'Temperature': [0], \n",
    "                         'Texture': [1]})\n",
    "\n",
    "# SKlearn requires an array, we need some reshaping since it is only one sample\n",
    "inst = np.array(new_data.iloc[0]).reshape(1, -1)\n",
    "inst"
   ]
  },
  {
   "cell_type": "markdown",
   "metadata": {},
   "source": [
    "Even though the tree is slightly different, the prediction remains the same. "
   ]
  },
  {
   "cell_type": "code",
   "execution_count": 58,
   "metadata": {},
   "outputs": [
    {
     "data": {
      "text/plain": [
       "0"
      ]
     },
     "execution_count": 58,
     "metadata": {},
     "output_type": "execute_result"
    }
   ],
   "source": [
    "# And indeed Sklearn also predict 0 meaning 'No'\n",
    "clf.predict(inst)[0]"
   ]
  },
  {
   "cell_type": "code",
   "execution_count": 59,
   "metadata": {},
   "outputs": [
    {
     "data": {
      "image/png": "[encoded data removed]",
      "text/plain": [
       "<IPython.core.display.Image object>"
      ]
     },
     "execution_count": 59,
     "metadata": {},
     "output_type": "execute_result"
    }
   ],
   "source": [
    "dot_data = StringIO()\n",
    "export_graphviz(clf, out_file=dot_data,  \n",
    "                filled=True, rounded=True,\n",
    "                special_characters=True)\n",
    "graph = pydotplus.graph_from_dot_data(dot_data.getvalue())  \n",
    "Image(graph.create_png())"
   ]
  },
  {
   "cell_type": "code",
   "execution_count": 3,
   "metadata": {},
   "outputs": [],
   "source": [
    "# Used resources:\n",
    "#https://medium.com/@rakendd/building-decision-trees-and-its-math-711862eea1c0\n",
    "#https://medium.com/@rakendd/decision-tree-from-scratch-9e23bcfb4928\n",
    "#https://en.wikipedia.org/wiki/Entropy_(information_theory)\n",
    "#https://scikit-learn.org/stable/modules/generated/sklearn.tree.DecisionTreeClassifier.html#sklearn.tree.DecisionTreeClassifier"
   ]
  }
 ],
 "metadata": {
  "kernelspec": {
   "display_name": "Python 3",
   "language": "python",
   "name": "python3"
  },
  "language_info": {
   "codemirror_mode": {
    "name": "ipython",
    "version": 3
   },
   "file_extension": ".py",
   "mimetype": "text/x-python",
   "name": "python",
   "nbconvert_exporter": "python",
   "pygments_lexer": "ipython3",
   "version": "3.7.0"
  }
 },
 "nbformat": 4,
 "nbformat_minor": 2
}
